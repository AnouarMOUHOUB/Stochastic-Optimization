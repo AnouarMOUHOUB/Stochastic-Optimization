{
  "nbformat": 4,
  "nbformat_minor": 0,
  "metadata": {
    "colab": {
      "provenance": []
    },
    "kernelspec": {
      "name": "python3",
      "display_name": "Python 3"
    },
    "language_info": {
      "name": "python"
    }
  },
  "cells": [
    {
      "cell_type": "markdown",
      "source": [
        "\n",
        "Exemple from \n",
        "\n",
        "Introduction to Stochastic Programming\n",
        "\n",
        "John R. Birge • Franç̧̧ois Louveaux\n"
      ],
      "metadata": {
        "id": "rlzcWAPj1XqH"
      }
    },
    {
      "cell_type": "markdown",
      "source": [
        "# Formulation without uncertainties\n",
        "\n",
        "a European farmer specializes in raising wheat, corn, and sugar beets \n",
        "on his 500 acres of land. During the winter, he wants to decide how much land to devote to each crop.\n",
        "\n",
        "\n",
        "- **Wheat/Corn**\n",
        "\n",
        "    - The farmer knows that at least 200 tons (T) of wheat and 240 T of corn are needed for cattle feed. \n",
        "    - These amounts can be raised on the farm or bought from a wholesaler. Any production in excess of the feeding requirement would be sold. \n",
        "    - Over the last decade, mean selling prices have been 170 and 150 (dollars/T) for wheat and corn. \n",
        "    - The purchase prices are 40% more than this due to the wholesalers margin and transportation costs.\n",
        "    \n",
        "- **Sugar beet**\n",
        "    - The farmer expects to sell at 36 (dollars/T), \n",
        "    - the European Commission imposes a quota on sugar beet production. \n",
        "    - Any amount in excess of the quota can be sold only at 10 per ton. The farmer’s quota for next year is 6000 T.\n",
        "    - the farmer knows that the mean yield on his land is roughly 20 T/acre,\n",
        "\n",
        "- **The farmer** estimates that on his land\n",
        "    - the mean yield is roughly 2.5, 3 and 20 T/acre (wheat,corn,sugar beet). \n",
        "    - the mean planting cost is roughly 150, 230, and 260 dollars/acre (wheat,corn,sugar beet). \n"
      ],
      "metadata": {
        "id": "_f1HmvYkZ_bX"
      }
    },
    {
      "cell_type": "markdown",
      "source": [
        "**Table 1: Data for farmer's problem.**\n",
        "\n",
        "| Culture | Wheat| Corn | Sugar Beets |\n",
        "| --- | --- | --- ||\n",
        "| Yield (T) | 2.5| 3 | 20 |\n",
        "| Planting cost  | 150| 230 | 60 |\n",
        "| Sell price  | 170| 150 | 36 under 6000 T |\n",
        "|  | |  | 10 above 6000 T |\n",
        "| Purchase price  | 238| 210 | - |\n",
        "| Minimum requirement (T) | 200| 240 | - |\n",
        "---\n",
        "Total available land: 500 acres\n"
      ],
      "metadata": {
        "id": "cbosBbrpnDhQ"
      }
    },
    {
      "cell_type": "markdown",
      "source": [
        "## Decision variables\n",
        "\n",
        "- x1= acres of land devoted to wheat,\n",
        "- x2= acres of land devoted to corn,\n",
        "- x3= acres of land devoted to sugar beets,\n",
        "- w1= tons of wheat sold,\n",
        "- y1= tons of wheat purchased,\n",
        "- w2= tons of corn sold,\n",
        "- y2= tons of corn purchased,\n",
        "- w3= tons of sugar beets sold at the favorable price,\n",
        "- w4 = tons of sugar beets sold at the lower price."
      ],
      "metadata": {
        "id": "3XnljAcOZ1Q0"
      }
    },
    {
      "cell_type": "markdown",
      "source": [
        "## Constraints\n",
        "\n",
        "- formulate the problem description as constaints on decision variables"
      ],
      "metadata": {
        "id": "yrGbUBQtaDyP"
      }
    },
    {
      "cell_type": "markdown",
      "source": [
        "## Objective\n",
        "\n",
        "- formulate costs minimisation using problem datas and decision variables"
      ],
      "metadata": {
        "id": "-DpeYDs7aI0f"
      }
    },
    {
      "cell_type": "markdown",
      "source": [
        "---\n",
        "---"
      ],
      "metadata": {
        "id": "goyV1Xr1bQFc"
      }
    },
    {
      "cell_type": "markdown",
      "source": [
        "**Solving the problem using OR-tools**"
      ],
      "metadata": {
        "id": "esNagQ6tbBCK"
      }
    },
    {
      "cell_type": "code",
      "source": [
        "!pip install ortools"
      ],
      "metadata": {
        "colab": {
          "base_uri": "https://localhost:8080/"
        },
        "id": "b3oOWrbqZS8y",
        "outputId": "1f501c24-5a58-4272-bd12-ce1d7f62bda6"
      },
      "execution_count": 1,
      "outputs": [
        {
          "output_type": "stream",
          "name": "stdout",
          "text": [
            "Looking in indexes: https://pypi.org/simple, https://us-python.pkg.dev/colab-wheels/public/simple/\n",
            "Collecting ortools\n",
            "  Downloading ortools-9.5.2237-cp38-cp38-manylinux_2_17_x86_64.manylinux2014_x86_64.whl (16.3 MB)\n",
            "\u001b[2K     \u001b[90m━━━━━━━━━━━━━━━━━━━━━━━━━━━━━━━━━━━━━━━━\u001b[0m \u001b[32m16.3/16.3 MB\u001b[0m \u001b[31m33.2 MB/s\u001b[0m eta \u001b[36m0:00:00\u001b[0m\n",
            "\u001b[?25hCollecting protobuf>=4.21.5\n",
            "  Downloading protobuf-4.22.0-cp37-abi3-manylinux2014_x86_64.whl (302 kB)\n",
            "\u001b[2K     \u001b[90m━━━━━━━━━━━━━━━━━━━━━━━━━━━━━━━━━━━━━━━\u001b[0m \u001b[32m302.4/302.4 KB\u001b[0m \u001b[31m7.1 MB/s\u001b[0m eta \u001b[36m0:00:00\u001b[0m\n",
            "\u001b[?25hRequirement already satisfied: numpy>=1.13.3 in /usr/local/lib/python3.8/dist-packages (from ortools) (1.22.4)\n",
            "Requirement already satisfied: absl-py>=0.13 in /usr/local/lib/python3.8/dist-packages (from ortools) (1.4.0)\n",
            "Installing collected packages: protobuf, ortools\n",
            "  Attempting uninstall: protobuf\n",
            "    Found existing installation: protobuf 3.19.6\n",
            "    Uninstalling protobuf-3.19.6:\n",
            "      Successfully uninstalled protobuf-3.19.6\n",
            "\u001b[31mERROR: pip's dependency resolver does not currently take into account all the packages that are installed. This behaviour is the source of the following dependency conflicts.\n",
            "tensorflow 2.11.0 requires protobuf<3.20,>=3.9.2, but you have protobuf 4.22.0 which is incompatible.\n",
            "tensorflow-metadata 1.12.0 requires protobuf<4,>=3.13, but you have protobuf 4.22.0 which is incompatible.\n",
            "tensorboard 2.11.2 requires protobuf<4,>=3.9.2, but you have protobuf 4.22.0 which is incompatible.\u001b[0m\u001b[31m\n",
            "\u001b[0mSuccessfully installed ortools-9.5.2237 protobuf-4.22.0\n"
          ]
        }
      ]
    },
    {
      "cell_type": "code",
      "source": [
        "from ortools.linear_solver import pywraplp\n"
      ],
      "metadata": {
        "id": "h7CmTsMZZa8e"
      },
      "execution_count": 2,
      "outputs": []
    },
    {
      "cell_type": "code",
      "source": [
        "# Create a solver using the GLOP backend\n",
        "solver = pywraplp.Solver('Minimize costs', pywraplp.Solver.GLOP_LINEAR_PROGRAMMING)"
      ],
      "metadata": {
        "id": "v5qCi_9xZc9Z"
      },
      "execution_count": 3,
      "outputs": []
    },
    {
      "cell_type": "code",
      "source": [
        "# Variables\n",
        "\n",
        "x1 = solver.IntVar(0, solver.infinity(), 'acres of land devoted to wheat')\n",
        "x2 = solver.IntVar(0, solver.infinity(), 'acres of land devoted to corn')\n",
        "x3 = solver.IntVar(0, solver.infinity(), 'acres of land devoted to sugar beets')\n",
        "\n",
        "\n",
        "w1 = solver.IntVar(0, solver.infinity(), 'tons of wheat sold')\n",
        "y1 = solver.IntVar(0, solver.infinity(), 'tons of wheat purchased')\n",
        "\n",
        "\n",
        "w2 = solver.IntVar(0, solver.infinity(), 'tons of corn sold')\n",
        "y2 = solver.IntVar(0, solver.infinity(), 'tons of corn purchased')\n",
        "\n",
        "w3 = solver.IntVar(0, solver.infinity(), 'tons of sugar beets sold at the favorable price')\n",
        "w4 = solver.IntVar(0, solver.infinity(), 'tons of sugar beets sold at the lower price')\n"
      ],
      "metadata": {
        "id": "2GHIu_MTZmyL"
      },
      "execution_count": 5,
      "outputs": []
    },
    {
      "cell_type": "code",
      "source": [
        "# Constraints\n",
        "\n",
        "solver.Add(x1 + x2 + x3 <= 500)\n",
        "solver.Add(2.5*x1 + y1 - w1 >= 200) \n",
        "solver.Add(3*x2 + y2 - w2 >= 240) \n",
        "solver.Add(w3 + w4 <= 20*x3) \n",
        "solver.Add(w3 <= 6000 )                  # acres of land available\n",
        "# add the other constraints"
      ],
      "metadata": {
        "colab": {
          "base_uri": "https://localhost:8080/"
        },
        "id": "96P5feddbvCc",
        "outputId": "f4bf794c-4575-420a-dace-866d70674966"
      },
      "execution_count": 6,
      "outputs": [
        {
          "output_type": "execute_result",
          "data": {
            "text/plain": [
              "<ortools.linear_solver.pywraplp.Constraint; proxy of <Swig Object of type 'operations_research::MPConstraint *' at 0x7fa524d28d80> >"
            ]
          },
          "metadata": {},
          "execution_count": 6
        }
      ]
    },
    {
      "cell_type": "code",
      "source": [
        "# Objective\n",
        "\n",
        "solver.Minimize(150*x1 + 230*x2 + 260*x3 + 238*y1 + 210*y2 - 170*w1 - 150*w2 - 36*w3 -10*w4)\n"
      ],
      "metadata": {
        "id": "xxnkQWUXcEyX"
      },
      "execution_count": 7,
      "outputs": []
    },
    {
      "cell_type": "code",
      "source": [
        "status = solver.Solve()\n",
        "\n",
        "# If an optimal solution has been found, print results\n",
        "if status == pywraplp.Solver.OPTIMAL:\n",
        "  print('================= Solution =================')\n",
        "  print(f'Solved in {solver.wall_time():.2f} milliseconds in {solver.iterations()} iterations')\n",
        "  print()\n",
        "  print(f'Optimal power = {solver.Objective().Value()} total costs')\n",
        "  print('land distribution:')\n",
        "  print(f' - x1 = {x1.solution_value()}')\n",
        "  print(f' - x2 = {x2.solution_value()}')\n",
        "  print(f' - x3 = {x3.solution_value()}')\n",
        "  print(f' - y1 = {y1.solution_value()}')\n",
        "  print(f' - y2 = {y2.solution_value()}')\n",
        "  print(f' - w1 = {w1.solution_value()}')\n",
        "  print(f' - w2 = {w2.solution_value()}')\n",
        "  print(f' - w3 = {w3.solution_value()}')\n",
        "  print(f' - w4 = {w4.solution_value()}')\n",
        "else:\n",
        "  print('The solver could not find an optimal solution.')"
      ],
      "metadata": {
        "colab": {
          "base_uri": "https://localhost:8080/"
        },
        "id": "tEMs4CuHca1v",
        "outputId": "e85b5183-9dd7-46aa-bfe1-c367b9bd2f87"
      },
      "execution_count": 9,
      "outputs": [
        {
          "output_type": "stream",
          "name": "stdout",
          "text": [
            "================= Solution =================\n",
            "Solved in 1523764.00 milliseconds in 0 iterations\n",
            "\n",
            "Optimal power = -118599.99999999999 total costs\n",
            "land distribution:\n",
            " - x1 = 119.99999999999996\n",
            " - x2 = 80.0\n",
            " - x3 = 300.0\n",
            " - y1 = 0.0\n",
            " - y2 = 0.0\n",
            " - w1 = 99.99999999999989\n",
            " - w2 = 0.0\n",
            " - w3 = 6000.0\n",
            " - w4 = 0.0\n"
          ]
        }
      ]
    },
    {
      "cell_type": "markdown",
      "source": [
        "Fill in your result\n",
        "\n",
        "**Table 2: Optimal solution based on expected yields.**\n",
        "\n",
        "| Culture | Wheat| Corn | Sugar Beets |\n",
        "| --- | --- | --- ||\n",
        "| Surface (acres) | 120| 80 | 300 |\n",
        "| Yield (T) | 300| 240 | 6000 |\n",
        "| Sales (Dollars) | 17000| 0 | 216 000 |\n",
        "| Purchase (Dollars) | 0| 0 | 0 |\n",
        "---\n",
        "Overall profit is 118 600 Dollars\n",
        "\n"
      ],
      "metadata": {
        "id": "emecBXR8iCFO"
      }
    },
    {
      "cell_type": "markdown",
      "source": [
        "# Formulation with uncertainties"
      ],
      "metadata": {
        "id": "ngX-CKt7kBIx"
      }
    },
    {
      "cell_type": "markdown",
      "source": [
        "## 3 scénarios \n",
        "\n",
        "The farmer assumes some correlation among the yields of the different crops. A very simplified representation of this would be \n",
        "- to assume that years are **good, fair, or bad** for all crops, \n",
        "- resulting in **above average, average, or below average** yields for all crops\n",
        "- **above** and **below** average indicate a yield 20% above or below the mean yield given. \n",
        "\n",
        "The farmer wishes to know whether the optimal solution is sensitive to variations in yields. "
      ],
      "metadata": {
        "id": "RY9946MnkEBn"
      }
    },
    {
      "cell_type": "markdown",
      "source": [
        "Above"
      ],
      "metadata": {
        "id": "cKB2GI4QjTyN"
      }
    },
    {
      "cell_type": "code",
      "source": [
        "# Constraints\n",
        "# new_yield= old_yield*1.2  raise yield of 20%\n",
        "solver.Add(x1 + x2 + x3 <= 500)\n",
        "solver.Add(3*x1 + y1 - w1 >= 200) \n",
        "solver.Add(3.6*x2 + y2 - w2 >= 240) \n",
        "solver.Add(w3 + w4 <= 24*x3) \n",
        "solver.Add(w3 <= 6000 )                  # acres of land available\n",
        "# add the other constraints"
      ],
      "metadata": {
        "id": "q5i09vEhjg4z",
        "outputId": "efa90b53-5c05-47ba-b71e-d4f1a056e072",
        "colab": {
          "base_uri": "https://localhost:8080/"
        }
      },
      "execution_count": 14,
      "outputs": [
        {
          "output_type": "execute_result",
          "data": {
            "text/plain": [
              "<ortools.linear_solver.pywraplp.Constraint; proxy of <Swig Object of type 'operations_research::MPConstraint *' at 0x7fa546a18120> >"
            ]
          },
          "metadata": {},
          "execution_count": 14
        }
      ]
    },
    {
      "cell_type": "code",
      "source": [
        "status = solver.Solve()\n",
        "\n",
        "# If an optimal solution has been found, print results\n",
        "if status == pywraplp.Solver.OPTIMAL:\n",
        "  print('================= Solution =================')\n",
        "  print(f'Solved in {solver.wall_time():.2f} milliseconds in {solver.iterations()} iterations')\n",
        "  print()\n",
        "  print(f'Optimal power = {solver.Objective().Value()} total costs')\n",
        "  print('land distribution:')\n",
        "  print(f' - x1 = {x1.solution_value()}')\n",
        "  print(f' - x2 = {x2.solution_value()}')\n",
        "  print(f' - x3 = {x3.solution_value()}')\n",
        "  print(f' - y1 = {y1.solution_value()}')\n",
        "  print(f' - y2 = {y2.solution_value()}')\n",
        "  print(f' - w1 = {w1.solution_value()}')\n",
        "  print(f' - w2 = {w2.solution_value()}')\n",
        "  print(f' - w3 = {w3.solution_value()}')\n",
        "  print(f' - w4 = {w4.solution_value()}')\n",
        "else:\n",
        "  print('The solver could not find an optimal solution.')"
      ],
      "metadata": {
        "id": "GLVxWI89jN58",
        "outputId": "3e002f07-8697-446f-e8cf-16a033b478f5",
        "colab": {
          "base_uri": "https://localhost:8080/"
        }
      },
      "execution_count": 15,
      "outputs": [
        {
          "output_type": "stream",
          "name": "stdout",
          "text": [
            "================= Solution =================\n",
            "Solved in 6288937.00 milliseconds in 0 iterations\n",
            "\n",
            "Optimal power = -59950.0 total costs\n",
            "land distribution:\n",
            " - x1 = 100.00000000000001\n",
            " - x2 = 25.00000000000004\n",
            " - x3 = 374.99999999999994\n",
            " - y1 = 0.0\n",
            " - y2 = 179.99999999999991\n",
            " - w1 = 0.0\n",
            " - w2 = 0.0\n",
            " - w3 = 6000.0\n",
            " - w4 = 0.0\n"
          ]
        }
      ]
    },
    {
      "cell_type": "markdown",
      "source": [
        "# Below\n"
      ],
      "metadata": {
        "id": "sL134b8DjSRa"
      }
    },
    {
      "cell_type": "code",
      "source": [
        "# Constraints\n",
        "# new_yield= old_yield*0.8  decrease yield of 20%\n",
        "solver.Add(x1 + x2 + x3 <= 500)\n",
        "solver.Add(2*x1 + y1 - w1 >= 200) \n",
        "solver.Add(2.4*x2 + y2 - w2 >= 240) \n",
        "solver.Add(w3 + w4 <= 16*x3) \n",
        "solver.Add(w3 <= 6000 )                  # acres of land available\n",
        "# add the other constraints"
      ],
      "metadata": {
        "id": "9jmwbwI2jce8",
        "outputId": "fa453d1b-677d-498a-b4d1-740a2719e6ce",
        "colab": {
          "base_uri": "https://localhost:8080/"
        }
      },
      "execution_count": 10,
      "outputs": [
        {
          "output_type": "execute_result",
          "data": {
            "text/plain": [
              "<ortools.linear_solver.pywraplp.Constraint; proxy of <Swig Object of type 'operations_research::MPConstraint *' at 0x7fa524d283c0> >"
            ]
          },
          "metadata": {},
          "execution_count": 10
        }
      ]
    },
    {
      "cell_type": "code",
      "source": [
        "status = solver.Solve()\n",
        "\n",
        "# If an optimal solution has been found, print results\n",
        "if status == pywraplp.Solver.OPTIMAL:\n",
        "  print('================= Solution =================')\n",
        "  print(f'Solved in {solver.wall_time():.2f} milliseconds in {solver.iterations()} iterations')\n",
        "  print()\n",
        "  print(f'Optimal power = {solver.Objective().Value()} total costs')\n",
        "  print('land distribution:')\n",
        "  print(f' - x1 = {x1.solution_value()}')\n",
        "  print(f' - x2 = {x2.solution_value()}')\n",
        "  print(f' - x3 = {x3.solution_value()}')\n",
        "  print(f' - y1 = {y1.solution_value()}')\n",
        "  print(f' - y2 = {y2.solution_value()}')\n",
        "  print(f' - w1 = {w1.solution_value()}')\n",
        "  print(f' - w2 = {w2.solution_value()}')\n",
        "  print(f' - w3 = {w3.solution_value()}')\n",
        "  print(f' - w4 = {w4.solution_value()}')\n",
        "else:\n",
        "  print('The solver could not find an optimal solution.')"
      ],
      "metadata": {
        "id": "swQfz0pTjQ0X",
        "outputId": "1aa914d8-6fe0-49cc-ae44-f607ea637111",
        "colab": {
          "base_uri": "https://localhost:8080/"
        }
      },
      "execution_count": 11,
      "outputs": [
        {
          "output_type": "stream",
          "name": "stdout",
          "text": [
            "================= Solution =================\n",
            "Solved in 5746190.00 milliseconds in 2 iterations\n",
            "\n",
            "Optimal power = -59950.0 total costs\n",
            "land distribution:\n",
            " - x1 = 100.0\n",
            " - x2 = 25.0\n",
            " - x3 = 375.0\n",
            " - y1 = 0.0\n",
            " - y2 = 179.99999999999997\n",
            " - w1 = 0.0\n",
            " - w2 = 0.0\n",
            " - w3 = 6000.0\n",
            " - w4 = 0.0\n"
          ]
        }
      ]
    },
    {
      "cell_type": "markdown",
      "source": [
        "- Reproduce Table 1 for the above average and below average"
      ],
      "metadata": {
        "id": "gZWaQN7goI4P"
      }
    },
    {
      "cell_type": "markdown",
      "source": [
        "*answer*"
      ],
      "metadata": {
        "id": "TFuDF56_oXs-"
      }
    },
    {
      "cell_type": "markdown",
      "source": [
        "- Run the two optimizations present results in tables for \n",
        "  - above average and \n",
        "  - below average yields"
      ],
      "metadata": {
        "id": "6ppQEJWBoTm0"
      }
    },
    {
      "cell_type": "markdown",
      "source": [
        "*answer*"
      ],
      "metadata": {
        "id": "qDoI4DvgoSuL"
      }
    },
    {
      "cell_type": "markdown",
      "source": [
        "\n",
        "- Are the optimal solutions sensitive to changes in yields\n",
        "- What is the main issue comparing the three scenarios"
      ],
      "metadata": {
        "id": "ubYXSQc9orOI"
      }
    },
    {
      "cell_type": "code",
      "source": [
        "# Constraints\n",
        "# new_yield= old_yield*0.8  decrease yield of 20%\n",
        "solver.Add(x1 + x2 + x3 <= 500)\n",
        "solver.Add(2*x1 + y1 - w1 >= 200) \n",
        "solver.Add(2.5*x1 + y1 - w1 >= 200)\n",
        "solver.Add(3*x1 + y1 - w1 >= 200)\n",
        "solver.Add(2.4*x2 + y2 - w2 >= 240) \n",
        "solver.Add(3*x2 + y2 - w2 >= 240) \n",
        "solver.Add(3.6*x2 + y2 - w2 >= 240) \n",
        "solver.Add(w3 + w4 <= 16*x3)\n",
        "solver.Add(w3 + w4 <= 20*x3) \n",
        "solver.Add(w3 + w4 <= 24*x3)  \n",
        "solver.Add(w3 <= 6000 )                  # acres of land available\n",
        "# add the other constraints"
      ],
      "metadata": {
        "id": "L0kZtGHTr4SN",
        "outputId": "512e2b0c-a37a-41d0-b201-054ad451b9bf",
        "colab": {
          "base_uri": "https://localhost:8080/"
        }
      },
      "execution_count": 18,
      "outputs": [
        {
          "output_type": "execute_result",
          "data": {
            "text/plain": [
              "<ortools.linear_solver.pywraplp.Constraint; proxy of <Swig Object of type 'operations_research::MPConstraint *' at 0x7fa524c52b70> >"
            ]
          },
          "metadata": {},
          "execution_count": 18
        }
      ]
    },
    {
      "cell_type": "code",
      "source": [
        "status = solver.Solve()\n",
        "\n",
        "# If an optimal solution has been found, print results\n",
        "if status == pywraplp.Solver.OPTIMAL:\n",
        "  print('================= Solution =================')\n",
        "  print(f'Solved in {solver.wall_time():.2f} milliseconds in {solver.iterations()} iterations')\n",
        "  print()\n",
        "  print(f'Optimal power = {solver.Objective().Value()} total costs')\n",
        "  print('land distribution:')\n",
        "  print(f' - x1 = {x1.solution_value()}')\n",
        "  print(f' - x2 = {x2.solution_value()}')\n",
        "  print(f' - x3 = {x3.solution_value()}')\n",
        "  print(f' - y1 = {y1.solution_value()}')\n",
        "  print(f' - y2 = {y2.solution_value()}')\n",
        "  print(f' - w1 = {w1.solution_value()}')\n",
        "  print(f' - w2 = {w2.solution_value()}')\n",
        "  print(f' - w3 = {w3.solution_value()}')\n",
        "  print(f' - w4 = {w4.solution_value()}')\n",
        "else:\n",
        "  print('The solver could not find an optimal solution.')"
      ],
      "metadata": {
        "id": "pJoGgbsvr4Xx",
        "outputId": "a2be46ab-8a55-41f1-d97f-e158e72b761b",
        "colab": {
          "base_uri": "https://localhost:8080/"
        }
      },
      "execution_count": 19,
      "outputs": [
        {
          "output_type": "stream",
          "name": "stdout",
          "text": [
            "================= Solution =================\n",
            "Solved in 8073590.00 milliseconds in 3 iterations\n",
            "\n",
            "Optimal power = -59950.00000000003 total costs\n",
            "land distribution:\n",
            " - x1 = 100.00000000000001\n",
            " - x2 = 25.000000000000053\n",
            " - x3 = 374.99999999999994\n",
            " - y1 = 0.0\n",
            " - y2 = 179.99999999999983\n",
            " - w1 = 0.0\n",
            " - w2 = 0.0\n",
            " - w3 = 6000.0\n",
            " - w4 = 0.0\n"
          ]
        }
      ]
    },
    {
      "cell_type": "markdown",
      "source": [
        "answer"
      ],
      "metadata": {
        "id": "ddqMzDbzouxG"
      }
    }
  ]
}